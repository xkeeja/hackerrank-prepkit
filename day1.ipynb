{
 "cells": [
  {
   "cell_type": "code",
   "execution_count": 2,
   "metadata": {},
   "outputs": [],
   "source": [
    "# q1\n",
    "\n",
    "def plusMinus(arr):\n",
    "    n = len(arr)\n",
    "    pos = 0\n",
    "    neg = 0\n",
    "    zero = 0\n",
    "    \n",
    "    for i in arr:\n",
    "        if i > 0:\n",
    "            pos += 1\n",
    "        elif i < 0:\n",
    "            neg += 1\n",
    "        else:\n",
    "            zero += 1\n",
    "    \n",
    "    n_pos = pos/n\n",
    "    n_neg = neg/n\n",
    "    n_zero = zero/n\n",
    "    \n",
    "    counts = [n_pos, n_neg, n_zero]\n",
    "    \n",
    "    for i in counts:\n",
    "        print(f'{i:.6f}')"
   ]
  },
  {
   "cell_type": "code",
   "execution_count": 13,
   "metadata": {},
   "outputs": [],
   "source": [
    "# q2\n",
    "\n",
    "def miniMaxSum(arr):\n",
    "    arr.sort()\n",
    "    min = sum(arr[:-1])\n",
    "    max = sum(arr[1:])\n",
    "    print(f'{min} {max}')"
   ]
  },
  {
   "cell_type": "code",
   "execution_count": 14,
   "metadata": {},
   "outputs": [
    {
     "name": "stdout",
     "output_type": "stream",
     "text": [
      "10 14\n"
     ]
    }
   ],
   "source": [
    "miniMaxSum([1, 2, 3, 4, 5])"
   ]
  },
  {
   "cell_type": "code",
   "execution_count": 29,
   "metadata": {},
   "outputs": [],
   "source": [
    "# q3\n",
    "\n",
    "def timeConversion(s):\n",
    "    hour = s[:2]\n",
    "    if hour == '12' and 'PM' in s:\n",
    "        return s.rstrip('PM')\n",
    "    elif hour == '12' and 'AM' in s:\n",
    "        return '00' + s[2:].rstrip('AM')\n",
    "    elif 'AM' in s:\n",
    "        return s.rstrip('AM')\n",
    "    else:\n",
    "        hour = str(int(s[:2]) + 12)\n",
    "        return hour + s[2:].rstrip('PM')"
   ]
  },
  {
   "cell_type": "code",
   "execution_count": 27,
   "metadata": {},
   "outputs": [],
   "source": [
    "from datetime import datetime\n",
    "\n",
    "def timeConversion(s):\n",
    "    t = datetime.strptime(s, '%I:%M:%S%p')\n",
    "    return t.strftime('%H:%M:%S')"
   ]
  },
  {
   "cell_type": "code",
   "execution_count": 33,
   "metadata": {},
   "outputs": [
    {
     "data": {
      "text/plain": [
       "'19:35:00'"
      ]
     },
     "execution_count": 33,
     "metadata": {},
     "output_type": "execute_result"
    }
   ],
   "source": [
    "timeConversion('07:35:00PM')"
   ]
  }
 ],
 "metadata": {
  "kernelspec": {
   "display_name": "lewagon",
   "language": "python",
   "name": "python3"
  },
  "language_info": {
   "codemirror_mode": {
    "name": "ipython",
    "version": 3
   },
   "file_extension": ".py",
   "mimetype": "text/x-python",
   "name": "python",
   "nbconvert_exporter": "python",
   "pygments_lexer": "ipython3",
   "version": "3.10.6"
  },
  "orig_nbformat": 4,
  "vscode": {
   "interpreter": {
    "hash": "25f3193215e64cb3af4d2360b86db9cf617370ebad63dac8334060df531a4899"
   }
  }
 },
 "nbformat": 4,
 "nbformat_minor": 2
}
