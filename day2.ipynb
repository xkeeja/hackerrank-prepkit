{
 "cells": [
  {
   "cell_type": "code",
   "execution_count": 1,
   "metadata": {},
   "outputs": [],
   "source": [
    "#q1 \n",
    "\n",
    "def lonelyinteger(a):\n",
    "    unique = set(a)\n",
    "    \n",
    "    for i in unique:\n",
    "        if a.count(i) == 1:\n",
    "            return i"
   ]
  },
  {
   "cell_type": "code",
   "execution_count": 2,
   "metadata": {},
   "outputs": [
    {
     "data": {
      "text/plain": [
       "2"
      ]
     },
     "execution_count": 2,
     "metadata": {},
     "output_type": "execute_result"
    }
   ],
   "source": [
    "lonelyinteger([1, 1, 2])"
   ]
  },
  {
   "cell_type": "code",
   "execution_count": 11,
   "metadata": {},
   "outputs": [],
   "source": [
    "#q2\n",
    "import numpy as np\n",
    "\n",
    "def diagonalDifference(arr):\n",
    "    diag1 = []\n",
    "    for i, j in zip(range(len(arr)), range(len(arr))):\n",
    "        diag1.append(arr[i][j])\n",
    "    \n",
    "    diag2 = []\n",
    "    arr_rev = [row[::-1] for row in arr]\n",
    "    for i, j in zip(range(len(arr_rev)), range(len(arr_rev))):\n",
    "        diag2.append(arr_rev[i][j])\n",
    "        \n",
    "    return abs(sum(diag1) -  sum(diag2))"
   ]
  },
  {
   "cell_type": "code",
   "execution_count": 13,
   "metadata": {},
   "outputs": [],
   "source": [
    "#q3\n",
    "\n",
    "def countingSort(arr):\n",
    "    count = [0] * len(arr)\n",
    "    for i in arr:\n",
    "        count[i] = count[i] + 1\n",
    "    return count"
   ]
  },
  {
   "cell_type": "code",
   "execution_count": 14,
   "metadata": {},
   "outputs": [
    {
     "data": {
      "text/plain": [
       "[0, 3, 1, 1, 0]"
      ]
     },
     "execution_count": 14,
     "metadata": {},
     "output_type": "execute_result"
    }
   ],
   "source": [
    "countingSort([1, 1, 3, 2, 1])"
   ]
  }
 ],
 "metadata": {
  "kernelspec": {
   "display_name": "lewagon",
   "language": "python",
   "name": "python3"
  },
  "language_info": {
   "codemirror_mode": {
    "name": "ipython",
    "version": 3
   },
   "file_extension": ".py",
   "mimetype": "text/x-python",
   "name": "python",
   "nbconvert_exporter": "python",
   "pygments_lexer": "ipython3",
   "version": "3.10.6"
  },
  "orig_nbformat": 4,
  "vscode": {
   "interpreter": {
    "hash": "25f3193215e64cb3af4d2360b86db9cf617370ebad63dac8334060df531a4899"
   }
  }
 },
 "nbformat": 4,
 "nbformat_minor": 2
}
