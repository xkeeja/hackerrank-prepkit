{
 "cells": [
  {
   "cell_type": "code",
   "execution_count": 18,
   "metadata": {},
   "outputs": [],
   "source": [
    "# q1\n",
    "\n",
    "def gridChallenge(grid):\n",
    "    alpha = 'abcdefghijklmnopqrstuvwxyz'\n",
    "    \n",
    "    translated = [[alpha.index(i) for i in row] for row in grid]\n",
    "    \n",
    "    for row in translated:\n",
    "        row.sort()\n",
    "    \n",
    "    rows = len(grid)\n",
    "    cols = len(grid[0])\n",
    "    for j in range(cols):\n",
    "        start = -1\n",
    "        for i in range(rows):\n",
    "            if translated[i][j] < start:\n",
    "                return 'NO'\n",
    "            start = translated[i][j]\n",
    "    print(translated)\n",
    "    return 'YES'\n",
    "    "
   ]
  },
  {
   "cell_type": "code",
   "execution_count": 19,
   "metadata": {},
   "outputs": [
    {
     "data": {
      "text/plain": [
       "'NO'"
      ]
     },
     "execution_count": 19,
     "metadata": {},
     "output_type": "execute_result"
    }
   ],
   "source": [
    "a = ['ebacd', 'fghij', 'olmkn', 'trbqs', 'xywuv']\n",
    "\n",
    "gridChallenge(a)"
   ]
  },
  {
   "cell_type": "code",
   "execution_count": 38,
   "metadata": {},
   "outputs": [],
   "source": [
    "# q2\n",
    "\n",
    "\n",
    "# avoid memory issues by computing total mathematically instead of expanding the digit into the entire string\n",
    "def superDigit(n, k):\n",
    "    total = sum([int(i) for i in n]) * k\n",
    "    len_n = len(n) * k\n",
    "    \n",
    "    while len_n > 1:\n",
    "        total = sum([int(i) for i in str(total)])\n",
    "        len_n = len(str(total))    \n",
    "    \n",
    "    return total"
   ]
  },
  {
   "cell_type": "code",
   "execution_count": 39,
   "metadata": {},
   "outputs": [
    {
     "data": {
      "text/plain": [
       "3"
      ]
     },
     "execution_count": 39,
     "metadata": {},
     "output_type": "execute_result"
    }
   ],
   "source": [
    "superDigit('9876', 4)"
   ]
  }
 ],
 "metadata": {
  "kernelspec": {
   "display_name": "lewagon",
   "language": "python",
   "name": "python3"
  },
  "language_info": {
   "codemirror_mode": {
    "name": "ipython",
    "version": 3
   },
   "file_extension": ".py",
   "mimetype": "text/x-python",
   "name": "python",
   "nbconvert_exporter": "python",
   "pygments_lexer": "ipython3",
   "version": "3.10.6"
  },
  "orig_nbformat": 4,
  "vscode": {
   "interpreter": {
    "hash": "25f3193215e64cb3af4d2360b86db9cf617370ebad63dac8334060df531a4899"
   }
  }
 },
 "nbformat": 4,
 "nbformat_minor": 2
}
