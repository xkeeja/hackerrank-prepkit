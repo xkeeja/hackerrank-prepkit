{
 "cells": [
  {
   "cell_type": "code",
   "execution_count": null,
   "metadata": {},
   "outputs": [],
   "source": [
    "# q1\n",
    "# merge two sorted lists\n",
    "\n",
    "def mergeLists(head1, head2):\n",
    "    merged = SinglyLinkedList()\n",
    "    \n",
    "    while head1 != None or head2 != None:\n",
    "        if head1 == None:\n",
    "            merged.insert_node(head2.data)\n",
    "            head2 = head2.next\n",
    "        elif head2 == None:\n",
    "            merged.insert_node(head1.data)\n",
    "            head1 = head1.next\n",
    "        else:\n",
    "            if head1.data > head2.data:\n",
    "                merged.insert_node(head2.data)\n",
    "                head2 = head2.next\n",
    "            else:\n",
    "                merged.insert_node(head1.data)\n",
    "                head1 = head1.next\n",
    "    \n",
    "    return merged.head"
   ]
  },
  {
   "cell_type": "code",
   "execution_count": null,
   "metadata": {},
   "outputs": [],
   "source": [
    "# q2\n",
    "# queue using two stacks\n",
    "\n",
    "# Enter your code here. Read input from STDIN. Print output to STDOUT\n",
    "\n",
    "n = int(input())\n",
    "\n",
    "queries = []\n",
    "for _ in range(n):\n",
    "    x = input().split()\n",
    "    queries.append(x)\n",
    "    \n",
    "q = []\n",
    "for i in queries:\n",
    "    if i[0] == '1':\n",
    "        q.append(i[1])\n",
    "    elif i[0] == '2':\n",
    "        q.pop(0)\n",
    "    else:\n",
    "        print(q[0])\n"
   ]
  },
  {
   "cell_type": "code",
   "execution_count": null,
   "metadata": {},
   "outputs": [],
   "source": [
    "# q3\n",
    "# balanced brackets\n",
    "\n",
    "def isBalanced(s):\n",
    "    stack = []\n",
    "    for i in s:\n",
    "        if i in '{[(':\n",
    "            stack.append(i)\n",
    "        elif i in '}])':\n",
    "            if len(stack) == 0:\n",
    "                return 'NO'\n",
    "            elif stack[-1] == '{' and i == '}':\n",
    "                stack.pop()\n",
    "            elif stack[-1] == '[' and i == ']':\n",
    "                stack.pop()\n",
    "            elif stack[-1] == '(' and i == ')':\n",
    "                stack.pop()\n",
    "            else:\n",
    "                return 'NO'\n",
    "    if len(stack) == 0:\n",
    "        return 'YES'\n",
    "    return 'NO'"
   ]
  }
 ],
 "metadata": {
  "language_info": {
   "name": "python"
  },
  "orig_nbformat": 4
 },
 "nbformat": 4,
 "nbformat_minor": 2
}
