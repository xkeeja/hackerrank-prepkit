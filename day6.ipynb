{
 "cells": [
  {
   "cell_type": "code",
   "execution_count": null,
   "metadata": {},
   "outputs": [],
   "source": [
    "# q1\n",
    "# simple text editor\n",
    "\n",
    "# Enter your code here. Read input from STDIN. Print output to STDOUT\n",
    "\n",
    "n = int(input())\n",
    "\n",
    "commands = []\n",
    "for _ in range(n):\n",
    "    commands.append(input().split())    \n",
    "\n",
    "s = ''\n",
    "s_history = []\n",
    "\n",
    "for command in commands:\n",
    "    if command[0] == '1':\n",
    "        s_history.append(s)\n",
    "        s = s + command[1]\n",
    "    elif command[0] == '2':\n",
    "        s_history.append(s)\n",
    "        s = s[:-int(command[1])]\n",
    "    elif command[0] == '3':\n",
    "        print(s[int(command[1])-1])\n",
    "    else:\n",
    "        s = s_history[-1]\n",
    "        s_history.pop(-1)\n"
   ]
  },
  {
   "cell_type": "code",
   "execution_count": 5,
   "metadata": {},
   "outputs": [
    {
     "data": {
      "text/plain": [
       "''"
      ]
     },
     "execution_count": 5,
     "metadata": {},
     "output_type": "execute_result"
    }
   ],
   "source": [
    "s = ''\n",
    "s = s + 'abc'\n",
    "s[:-3]"
   ]
  }
 ],
 "metadata": {
  "kernelspec": {
   "display_name": "lewagon",
   "language": "python",
   "name": "python3"
  },
  "language_info": {
   "codemirror_mode": {
    "name": "ipython",
    "version": 3
   },
   "file_extension": ".py",
   "mimetype": "text/x-python",
   "name": "python",
   "nbconvert_exporter": "python",
   "pygments_lexer": "ipython3",
   "version": "3.10.6"
  },
  "orig_nbformat": 4,
  "vscode": {
   "interpreter": {
    "hash": "25f3193215e64cb3af4d2360b86db9cf617370ebad63dac8334060df531a4899"
   }
  }
 },
 "nbformat": 4,
 "nbformat_minor": 2
}
