{
 "cells": [
  {
   "cell_type": "code",
   "execution_count": null,
   "metadata": {},
   "outputs": [],
   "source": [
    "# q1\n",
    "# tree: preorder traversal\n",
    "\n",
    "def preOrder(root):\n",
    "    print(root.info, end=' ')\n",
    "    if root.left is not None:\n",
    "        preOrder(root.left)\n",
    "    if root.right is not None:\n",
    "        preOrder(root.right)\n",
    "    return"
   ]
  },
  {
   "cell_type": "code",
   "execution_count": null,
   "metadata": {},
   "outputs": [],
   "source": [
    "# q2\n",
    "# tree: huffman decoding\n",
    "\n",
    "def decodeHuff(root, s):\n",
    "    current = root\n",
    "    for i in s:\n",
    "        if i == '0':\n",
    "            current = current.left\n",
    "        if i == '1':\n",
    "            current = current.right\n",
    "        if current.left is None and current.right is None:\n",
    "            print(current.data, end='')\n",
    "            current = root\n",
    "    return"
   ]
  },
  {
   "cell_type": "code",
   "execution_count": null,
   "metadata": {},
   "outputs": [],
   "source": [
    "# q3\n",
    "# no prefix set\n",
    "\n",
    "def noPrefix(words):\n",
    "    word_set = set()\n",
    "    prefix_set = set()\n",
    "    \n",
    "    for word in words:\n",
    "        if word in prefix_set:\n",
    "            print('BAD SET')\n",
    "            print(word)\n",
    "            return\n",
    "        \n",
    "        prefix=''\n",
    "        for char in word:\n",
    "            prefix += char\n",
    "            prefix_set.add(prefix)\n",
    "            if prefix in word_set:\n",
    "                print('BAD SET')\n",
    "                print(word)\n",
    "                return\n",
    "        word_set.add(word)\n",
    "    print('GOOD SET')\n",
    "    return"
   ]
  }
 ],
 "metadata": {
  "language_info": {
   "name": "python"
  },
  "orig_nbformat": 4
 },
 "nbformat": 4,
 "nbformat_minor": 2
}
